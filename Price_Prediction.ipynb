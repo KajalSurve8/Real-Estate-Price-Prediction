{
 "cells": [
  {
   "cell_type": "code",
   "execution_count": 406,
   "metadata": {},
   "outputs": [],
   "source": [
    "import pandas as pd"
   ]
  },
  {
   "cell_type": "code",
   "execution_count": 407,
   "metadata": {},
   "outputs": [
    {
     "data": {
      "text/html": [
       "<div>\n",
       "<style scoped>\n",
       "    .dataframe tbody tr th:only-of-type {\n",
       "        vertical-align: middle;\n",
       "    }\n",
       "\n",
       "    .dataframe tbody tr th {\n",
       "        vertical-align: top;\n",
       "    }\n",
       "\n",
       "    .dataframe thead th {\n",
       "        text-align: right;\n",
       "    }\n",
       "</style>\n",
       "<table border=\"1\" class=\"dataframe\">\n",
       "  <thead>\n",
       "    <tr style=\"text-align: right;\">\n",
       "      <th></th>\n",
       "      <th>bhk</th>\n",
       "      <th>type</th>\n",
       "      <th>locality</th>\n",
       "      <th>area</th>\n",
       "      <th>price</th>\n",
       "      <th>price_unit</th>\n",
       "      <th>region</th>\n",
       "      <th>status</th>\n",
       "      <th>age</th>\n",
       "    </tr>\n",
       "  </thead>\n",
       "  <tbody>\n",
       "    <tr>\n",
       "      <th>0</th>\n",
       "      <td>3</td>\n",
       "      <td>Apartment</td>\n",
       "      <td>Lak And Hanware The Residency Tower</td>\n",
       "      <td>685</td>\n",
       "      <td>2.50</td>\n",
       "      <td>Cr</td>\n",
       "      <td>Andheri West</td>\n",
       "      <td>Ready to move</td>\n",
       "      <td>New</td>\n",
       "    </tr>\n",
       "    <tr>\n",
       "      <th>1</th>\n",
       "      <td>2</td>\n",
       "      <td>Apartment</td>\n",
       "      <td>Radheya Sai Enclave Building No 2</td>\n",
       "      <td>640</td>\n",
       "      <td>52.51</td>\n",
       "      <td>L</td>\n",
       "      <td>Naigaon East</td>\n",
       "      <td>Under Construction</td>\n",
       "      <td>New</td>\n",
       "    </tr>\n",
       "    <tr>\n",
       "      <th>2</th>\n",
       "      <td>2</td>\n",
       "      <td>Apartment</td>\n",
       "      <td>Romell Serene</td>\n",
       "      <td>610</td>\n",
       "      <td>1.73</td>\n",
       "      <td>Cr</td>\n",
       "      <td>Borivali West</td>\n",
       "      <td>Under Construction</td>\n",
       "      <td>New</td>\n",
       "    </tr>\n",
       "    <tr>\n",
       "      <th>3</th>\n",
       "      <td>2</td>\n",
       "      <td>Apartment</td>\n",
       "      <td>Soundlines Codename Urban Rainforest</td>\n",
       "      <td>876</td>\n",
       "      <td>59.98</td>\n",
       "      <td>L</td>\n",
       "      <td>Panvel</td>\n",
       "      <td>Under Construction</td>\n",
       "      <td>New</td>\n",
       "    </tr>\n",
       "    <tr>\n",
       "      <th>4</th>\n",
       "      <td>2</td>\n",
       "      <td>Apartment</td>\n",
       "      <td>Origin Oriana</td>\n",
       "      <td>659</td>\n",
       "      <td>94.11</td>\n",
       "      <td>L</td>\n",
       "      <td>Mira Road East</td>\n",
       "      <td>Under Construction</td>\n",
       "      <td>New</td>\n",
       "    </tr>\n",
       "  </tbody>\n",
       "</table>\n",
       "</div>"
      ],
      "text/plain": [
       "   bhk       type                              locality  area  price  \\\n",
       "0    3  Apartment   Lak And Hanware The Residency Tower   685   2.50   \n",
       "1    2  Apartment     Radheya Sai Enclave Building No 2   640  52.51   \n",
       "2    2  Apartment                         Romell Serene   610   1.73   \n",
       "3    2  Apartment  Soundlines Codename Urban Rainforest   876  59.98   \n",
       "4    2  Apartment                         Origin Oriana   659  94.11   \n",
       "\n",
       "  price_unit          region              status  age  \n",
       "0         Cr    Andheri West       Ready to move  New  \n",
       "1          L    Naigaon East  Under Construction  New  \n",
       "2         Cr   Borivali West  Under Construction  New  \n",
       "3          L          Panvel  Under Construction  New  \n",
       "4          L  Mira Road East  Under Construction  New  "
      ]
     },
     "execution_count": 407,
     "metadata": {},
     "output_type": "execute_result"
    }
   ],
   "source": [
    "dataset = pd.read_csv('Mumbai House Prices.csv')\n",
    "\n",
    "dataset.head()"
   ]
  },
  {
   "cell_type": "code",
   "execution_count": 408,
   "metadata": {},
   "outputs": [
    {
     "data": {
      "text/plain": [
       "(76038, 9)"
      ]
     },
     "execution_count": 408,
     "metadata": {},
     "output_type": "execute_result"
    }
   ],
   "source": [
    "dataset.shape"
   ]
  },
  {
   "cell_type": "markdown",
   "metadata": {},
   "source": [
    "Data Preprocessing"
   ]
  },
  {
   "cell_type": "code",
   "execution_count": 409,
   "metadata": {},
   "outputs": [
    {
     "data": {
      "text/plain": [
       "bhk             int64\n",
       "type           object\n",
       "locality       object\n",
       "area            int64\n",
       "price         float64\n",
       "price_unit     object\n",
       "region         object\n",
       "status         object\n",
       "age            object\n",
       "dtype: object"
      ]
     },
     "execution_count": 409,
     "metadata": {},
     "output_type": "execute_result"
    }
   ],
   "source": [
    "# checking for correct datatypes\n",
    "dataset.dtypes"
   ]
  },
  {
   "cell_type": "code",
   "execution_count": 410,
   "metadata": {},
   "outputs": [
    {
     "data": {
      "text/plain": [
       "bhk           0\n",
       "type          0\n",
       "locality      0\n",
       "area          0\n",
       "price         0\n",
       "price_unit    0\n",
       "region        0\n",
       "status        0\n",
       "age           0\n",
       "dtype: int64"
      ]
     },
     "execution_count": 410,
     "metadata": {},
     "output_type": "execute_result"
    }
   ],
   "source": [
    "# checking for missing values\n",
    "dataset.isnull().sum()"
   ]
  },
  {
   "cell_type": "code",
   "execution_count": 411,
   "metadata": {},
   "outputs": [
    {
     "data": {
      "text/plain": [
       "20312"
      ]
     },
     "execution_count": 411,
     "metadata": {},
     "output_type": "execute_result"
    }
   ],
   "source": [
    "# checking for duplicates\n",
    "dataset.duplicated().sum()"
   ]
  },
  {
   "cell_type": "code",
   "execution_count": 412,
   "metadata": {},
   "outputs": [],
   "source": [
    "# removing duplicates\n",
    "dataset = dataset.drop_duplicates()\n",
    "\n",
    "# resetting the index\n",
    "dataset = dataset.reset_index(drop=True)"
   ]
  },
  {
   "cell_type": "code",
   "execution_count": 413,
   "metadata": {},
   "outputs": [
    {
     "data": {
      "text/plain": [
       "(55726, 9)"
      ]
     },
     "execution_count": 413,
     "metadata": {},
     "output_type": "execute_result"
    }
   ],
   "source": [
    "dataset.shape"
   ]
  },
  {
   "cell_type": "code",
   "execution_count": 414,
   "metadata": {},
   "outputs": [],
   "source": [
    "# dropping the unused columns\n",
    "dataset = dataset.drop(columns = ['type', 'locality', 'price_unit', 'status', 'age']) "
   ]
  },
  {
   "cell_type": "code",
   "execution_count": 415,
   "metadata": {},
   "outputs": [
    {
     "data": {
      "text/plain": [
       "Index(['bhk', 'area', 'price', 'region'], dtype='object')"
      ]
     },
     "execution_count": 415,
     "metadata": {},
     "output_type": "execute_result"
    }
   ],
   "source": [
    "dataset.columns"
   ]
  },
  {
   "cell_type": "markdown",
   "metadata": {},
   "source": [
    "Feature Engineering"
   ]
  },
  {
   "cell_type": "code",
   "execution_count": 416,
   "metadata": {},
   "outputs": [
    {
     "data": {
      "text/html": [
       "<div>\n",
       "<style scoped>\n",
       "    .dataframe tbody tr th:only-of-type {\n",
       "        vertical-align: middle;\n",
       "    }\n",
       "\n",
       "    .dataframe tbody tr th {\n",
       "        vertical-align: top;\n",
       "    }\n",
       "\n",
       "    .dataframe thead th {\n",
       "        text-align: right;\n",
       "    }\n",
       "</style>\n",
       "<table border=\"1\" class=\"dataframe\">\n",
       "  <thead>\n",
       "    <tr style=\"text-align: right;\">\n",
       "      <th></th>\n",
       "      <th>bhk</th>\n",
       "      <th>area</th>\n",
       "      <th>price</th>\n",
       "      <th>region</th>\n",
       "      <th>price_per_sqft</th>\n",
       "    </tr>\n",
       "  </thead>\n",
       "  <tbody>\n",
       "    <tr>\n",
       "      <th>0</th>\n",
       "      <td>3</td>\n",
       "      <td>685</td>\n",
       "      <td>2.50</td>\n",
       "      <td>Andheri West</td>\n",
       "      <td>364.963504</td>\n",
       "    </tr>\n",
       "    <tr>\n",
       "      <th>1</th>\n",
       "      <td>2</td>\n",
       "      <td>640</td>\n",
       "      <td>52.51</td>\n",
       "      <td>Naigaon East</td>\n",
       "      <td>8204.687500</td>\n",
       "    </tr>\n",
       "    <tr>\n",
       "      <th>2</th>\n",
       "      <td>2</td>\n",
       "      <td>610</td>\n",
       "      <td>1.73</td>\n",
       "      <td>Borivali West</td>\n",
       "      <td>283.606557</td>\n",
       "    </tr>\n",
       "    <tr>\n",
       "      <th>3</th>\n",
       "      <td>2</td>\n",
       "      <td>876</td>\n",
       "      <td>59.98</td>\n",
       "      <td>Panvel</td>\n",
       "      <td>6847.031963</td>\n",
       "    </tr>\n",
       "    <tr>\n",
       "      <th>4</th>\n",
       "      <td>2</td>\n",
       "      <td>659</td>\n",
       "      <td>94.11</td>\n",
       "      <td>Mira Road East</td>\n",
       "      <td>14280.728376</td>\n",
       "    </tr>\n",
       "  </tbody>\n",
       "</table>\n",
       "</div>"
      ],
      "text/plain": [
       "   bhk  area  price          region  price_per_sqft\n",
       "0    3   685   2.50    Andheri West      364.963504\n",
       "1    2   640  52.51    Naigaon East     8204.687500\n",
       "2    2   610   1.73   Borivali West      283.606557\n",
       "3    2   876  59.98          Panvel     6847.031963\n",
       "4    2   659  94.11  Mira Road East    14280.728376"
      ]
     },
     "execution_count": 416,
     "metadata": {},
     "output_type": "execute_result"
    }
   ],
   "source": [
    "# creating one additional column as price_per_sqft\n",
    "dataset['price_per_sqft'] = dataset['price'] * 100000 / dataset['area']\n",
    "\n",
    "dataset.head()"
   ]
  },
  {
   "cell_type": "code",
   "execution_count": 417,
   "metadata": {},
   "outputs": [
    {
     "data": {
      "text/plain": [
       "228"
      ]
     },
     "execution_count": 417,
     "metadata": {},
     "output_type": "execute_result"
    }
   ],
   "source": [
    "len(dataset['region'].unique())"
   ]
  },
  {
   "cell_type": "markdown",
   "metadata": {},
   "source": [
    "Identifying and Handling Outliers"
   ]
  },
  {
   "cell_type": "code",
   "execution_count": 418,
   "metadata": {},
   "outputs": [
    {
     "data": {
      "text/html": [
       "<div>\n",
       "<style scoped>\n",
       "    .dataframe tbody tr th:only-of-type {\n",
       "        vertical-align: middle;\n",
       "    }\n",
       "\n",
       "    .dataframe tbody tr th {\n",
       "        vertical-align: top;\n",
       "    }\n",
       "\n",
       "    .dataframe thead th {\n",
       "        text-align: right;\n",
       "    }\n",
       "</style>\n",
       "<table border=\"1\" class=\"dataframe\">\n",
       "  <thead>\n",
       "    <tr style=\"text-align: right;\">\n",
       "      <th></th>\n",
       "      <th>bhk</th>\n",
       "      <th>area</th>\n",
       "      <th>price</th>\n",
       "      <th>region</th>\n",
       "      <th>price_per_sqft</th>\n",
       "    </tr>\n",
       "  </thead>\n",
       "  <tbody>\n",
       "    <tr>\n",
       "      <th>0</th>\n",
       "      <td>3</td>\n",
       "      <td>685</td>\n",
       "      <td>2.50</td>\n",
       "      <td>Andheri West</td>\n",
       "      <td>364.963504</td>\n",
       "    </tr>\n",
       "    <tr>\n",
       "      <th>7</th>\n",
       "      <td>3</td>\n",
       "      <td>778</td>\n",
       "      <td>2.89</td>\n",
       "      <td>Santacruz East</td>\n",
       "      <td>371.465296</td>\n",
       "    </tr>\n",
       "    <tr>\n",
       "      <th>12</th>\n",
       "      <td>3</td>\n",
       "      <td>753</td>\n",
       "      <td>1.77</td>\n",
       "      <td>Chembur</td>\n",
       "      <td>235.059761</td>\n",
       "    </tr>\n",
       "    <tr>\n",
       "      <th>18</th>\n",
       "      <td>2</td>\n",
       "      <td>555</td>\n",
       "      <td>1.42</td>\n",
       "      <td>Thane West</td>\n",
       "      <td>255.855856</td>\n",
       "    </tr>\n",
       "    <tr>\n",
       "      <th>20</th>\n",
       "      <td>2</td>\n",
       "      <td>582</td>\n",
       "      <td>1.49</td>\n",
       "      <td>Vikhroli</td>\n",
       "      <td>256.013746</td>\n",
       "    </tr>\n",
       "  </tbody>\n",
       "</table>\n",
       "</div>"
      ],
      "text/plain": [
       "    bhk  area  price          region  price_per_sqft\n",
       "0     3   685   2.50    Andheri West      364.963504\n",
       "7     3   778   2.89  Santacruz East      371.465296\n",
       "12    3   753   1.77         Chembur      235.059761\n",
       "18    2   555   1.42      Thane West      255.855856\n",
       "20    2   582   1.49        Vikhroli      256.013746"
      ]
     },
     "execution_count": 418,
     "metadata": {},
     "output_type": "execute_result"
    }
   ],
   "source": [
    "dataset[dataset['area'] / dataset['bhk'] < 300].head()"
   ]
  },
  {
   "cell_type": "code",
   "execution_count": 419,
   "metadata": {},
   "outputs": [
    {
     "data": {
      "text/plain": [
       "(53050, 5)"
      ]
     },
     "execution_count": 419,
     "metadata": {},
     "output_type": "execute_result"
    }
   ],
   "source": [
    "# dropping those data whose area/bhk is less than 300\n",
    "dataset = dataset[~(dataset['area'] / dataset['bhk'] < 300)]\n",
    "\n",
    "dataset.shape"
   ]
  },
  {
   "cell_type": "code",
   "execution_count": 420,
   "metadata": {},
   "outputs": [
    {
     "data": {
      "text/plain": [
       "count    53050.000000\n",
       "mean      4386.442118\n",
       "std       5112.334374\n",
       "min         21.428571\n",
       "25%        181.975087\n",
       "50%        490.490754\n",
       "75%       8072.953295\n",
       "max      32038.834951\n",
       "Name: price_per_sqft, dtype: float64"
      ]
     },
     "execution_count": 420,
     "metadata": {},
     "output_type": "execute_result"
    }
   ],
   "source": [
    "dataset['price_per_sqft'].describe()"
   ]
  },
  {
   "cell_type": "code",
   "execution_count": 421,
   "metadata": {},
   "outputs": [],
   "source": [
    "# dropping those data whose price_per_sqft is extreme\n",
    "import numpy as np\n",
    "new_dataset = pd.DataFrame()\n",
    "for key, df in dataset.groupby('region'):\n",
    "    mean_location_wise = np.mean(df.price_per_sqft)\n",
    "    std_location_wise = np.std(df.price_per_sqft)\n",
    "    reduced_dataset = df[(df.price_per_sqft>(mean_location_wise - std_location_wise)) & (df.price_per_sqft<=(mean_location_wise + std_location_wise))]\n",
    "    new_dataset = pd.concat([new_dataset, reduced_dataset], ignore_index=True)"
   ]
  },
  {
   "cell_type": "code",
   "execution_count": 422,
   "metadata": {},
   "outputs": [
    {
     "data": {
      "text/plain": [
       "(42422, 5)"
      ]
     },
     "execution_count": 422,
     "metadata": {},
     "output_type": "execute_result"
    }
   ],
   "source": [
    "new_dataset.shape"
   ]
  },
  {
   "cell_type": "code",
   "execution_count": 423,
   "metadata": {},
   "outputs": [
    {
     "data": {
      "text/plain": [
       "<matplotlib.legend.Legend at 0x1803615b310>"
      ]
     },
     "execution_count": 423,
     "metadata": {},
     "output_type": "execute_result"
    },
    {
     "data": {
      "image/png": "[encoded data removed]",
      "text/plain": [
       "<Figure size 1500x1000 with 1 Axes>"
      ]
     },
     "metadata": {},
     "output_type": "display_data"
    }
   ],
   "source": [
    "# checking area vs price for 2 and 3 BHK apartments\n",
    "import matplotlib.pyplot as plt\n",
    "bhk2 = new_dataset[(new_dataset['region'] == 'Panvel') & (new_dataset['bhk'] == 2)]\n",
    "bhk3 = new_dataset[(new_dataset['region'] == 'Panvel') & (new_dataset['bhk'] == 3)]\n",
    "plt.figure(figsize=(15,10))\n",
    "plt.scatter(bhk2.area, bhk2.price, color='blue', label='2 BHK', s=50)\n",
    "plt.scatter(bhk3.area, bhk3.price, color='green', label='3 BHK', s=50, marker='+')\n",
    "plt.xlabel(\"Total Area\")\n",
    "plt.ylabel(\"Price\")\n",
    "plt.title('Thane West')\n",
    "plt.legend()\n"
   ]
  },
  {
   "cell_type": "code",
   "execution_count": 424,
   "metadata": {},
   "outputs": [
    {
     "data": {
      "text/plain": [
       "(19214, 5)"
      ]
     },
     "execution_count": 424,
     "metadata": {},
     "output_type": "execute_result"
    }
   ],
   "source": [
    "# we're going to remove those BHK apartments whose price_per_sqft is less than mean price_per_sqft of the lower BHK apartments\n",
    "\n",
    "exclude_indices = np.array([])\n",
    "for location, location_df in new_dataset.groupby('region'):\n",
    "    bhk_stats = {}\n",
    "    for bhk, bhk_df in new_dataset.groupby('bhk'):\n",
    "        bhk_stats[bhk] = {\n",
    "            'mean' : np.mean(bhk_df.price_per_sqft),\n",
    "            'std' : np.std(bhk_df.price_per_sqft),\n",
    "            'count' : bhk_df.shape[0]\n",
    "        }\n",
    "    for bhk, bhk_df in new_dataset.groupby('bhk'):\n",
    "        stats = bhk_stats.get(bhk-1)\n",
    "        if stats and stats['count']>5:\n",
    "            exclude_indices = np.append(exclude_indices, bhk_df[bhk_df.price_per_sqft < (stats['mean'])].index.values)\n",
    "new_dataset = new_dataset.drop(exclude_indices, axis='index') \n",
    "new_dataset.shape           "
   ]
  },
  {
   "cell_type": "code",
   "execution_count": 425,
   "metadata": {},
   "outputs": [
    {
     "data": {
      "text/html": [
       "<div>\n",
       "<style scoped>\n",
       "    .dataframe tbody tr th:only-of-type {\n",
       "        vertical-align: middle;\n",
       "    }\n",
       "\n",
       "    .dataframe tbody tr th {\n",
       "        vertical-align: top;\n",
       "    }\n",
       "\n",
       "    .dataframe thead th {\n",
       "        text-align: right;\n",
       "    }\n",
       "</style>\n",
       "<table border=\"1\" class=\"dataframe\">\n",
       "  <thead>\n",
       "    <tr style=\"text-align: right;\">\n",
       "      <th></th>\n",
       "      <th>bhk</th>\n",
       "      <th>area</th>\n",
       "      <th>price</th>\n",
       "      <th>region</th>\n",
       "    </tr>\n",
       "  </thead>\n",
       "  <tbody>\n",
       "    <tr>\n",
       "      <th>2</th>\n",
       "      <td>1</td>\n",
       "      <td>803</td>\n",
       "      <td>2.25</td>\n",
       "      <td>Agripada</td>\n",
       "    </tr>\n",
       "    <tr>\n",
       "      <th>4</th>\n",
       "      <td>1</td>\n",
       "      <td>684</td>\n",
       "      <td>1.70</td>\n",
       "      <td>Agripada</td>\n",
       "    </tr>\n",
       "    <tr>\n",
       "      <th>5</th>\n",
       "      <td>1</td>\n",
       "      <td>545</td>\n",
       "      <td>1.60</td>\n",
       "      <td>Agripada</td>\n",
       "    </tr>\n",
       "    <tr>\n",
       "      <th>25</th>\n",
       "      <td>4</td>\n",
       "      <td>3100</td>\n",
       "      <td>20.00</td>\n",
       "      <td>Agripada</td>\n",
       "    </tr>\n",
       "    <tr>\n",
       "      <th>29</th>\n",
       "      <td>1</td>\n",
       "      <td>800</td>\n",
       "      <td>2.60</td>\n",
       "      <td>Agripada</td>\n",
       "    </tr>\n",
       "  </tbody>\n",
       "</table>\n",
       "</div>"
      ],
      "text/plain": [
       "    bhk  area  price    region\n",
       "2     1   803   2.25  Agripada\n",
       "4     1   684   1.70  Agripada\n",
       "5     1   545   1.60  Agripada\n",
       "25    4  3100  20.00  Agripada\n",
       "29    1   800   2.60  Agripada"
      ]
     },
     "execution_count": 425,
     "metadata": {},
     "output_type": "execute_result"
    }
   ],
   "source": [
    "# dropping the price_per_sqft column\n",
    "new_dataset = new_dataset.drop(columns = ['price_per_sqft'])\n",
    "new_dataset.head()"
   ]
  },
  {
   "cell_type": "markdown",
   "metadata": {},
   "source": [
    "One Hot Encoding for Region column"
   ]
  },
  {
   "cell_type": "code",
   "execution_count": 426,
   "metadata": {},
   "outputs": [
    {
     "name": "stdout",
     "output_type": "stream",
     "text": [
      "    bhk  area  price  region_Agripada  region_Airoli  region_Ambarnath  \\\n",
      "2     1   803   2.25                1              0                 0   \n",
      "4     1   684   1.70                1              0                 0   \n",
      "5     1   545   1.60                1              0                 0   \n",
      "25    4  3100  20.00                1              0                 0   \n",
      "29    1   800   2.60                1              0                 0   \n",
      "\n",
      "    region_Ambernath East  region_Ambernath West  region_Ambivali  \\\n",
      "2                       0                      0                0   \n",
      "4                       0                      0                0   \n",
      "5                       0                      0                0   \n",
      "25                      0                      0                0   \n",
      "29                      0                      0                0   \n",
      "\n",
      "    region_Andheri East  ...  region_Vikhroli  region_Vikroli East  \\\n",
      "2                     0  ...                0                    0   \n",
      "4                     0  ...                0                    0   \n",
      "5                     0  ...                0                    0   \n",
      "25                    0  ...                0                    0   \n",
      "29                    0  ...                0                    0   \n",
      "\n",
      "    region_Ville Parle East  region_Ville Parle West  region_Virar  \\\n",
      "2                         0                        0             0   \n",
      "4                         0                        0             0   \n",
      "5                         0                        0             0   \n",
      "25                        0                        0             0   \n",
      "29                        0                        0             0   \n",
      "\n",
      "    region_Virar East  region_Virar West  region_Wadala  region_Worli  \\\n",
      "2                   0                  0              0             0   \n",
      "4                   0                  0              0             0   \n",
      "5                   0                  0              0             0   \n",
      "25                  0                  0              0             0   \n",
      "29                  0                  0              0             0   \n",
      "\n",
      "    region_kasaradavali thane west  \n",
      "2                                0  \n",
      "4                                0  \n",
      "5                                0  \n",
      "25                               0  \n",
      "29                               0  \n",
      "\n",
      "[5 rows x 148 columns]\n"
     ]
    }
   ],
   "source": [
    "dataset_encoded = pd.get_dummies(new_dataset, columns=['region'])\n",
    "# Convert only the one-hot encoded columns to integers\n",
    "# Automatically detects boolean columns and converts them to int\n",
    "for col in dataset_encoded.columns:\n",
    "    if dataset_encoded[col].dtype == 'bool':\n",
    "        dataset_encoded[col] = dataset_encoded[col].astype(int)\n",
    "\n",
    "print(dataset_encoded.head())"
   ]
  },
  {
   "cell_type": "markdown",
   "metadata": {},
   "source": [
    "Splitting Independent and Dependent Variables"
   ]
  },
  {
   "cell_type": "code",
   "execution_count": 427,
   "metadata": {},
   "outputs": [
    {
     "data": {
      "text/html": [
       "<div>\n",
       "<style scoped>\n",
       "    .dataframe tbody tr th:only-of-type {\n",
       "        vertical-align: middle;\n",
       "    }\n",
       "\n",
       "    .dataframe tbody tr th {\n",
       "        vertical-align: top;\n",
       "    }\n",
       "\n",
       "    .dataframe thead th {\n",
       "        text-align: right;\n",
       "    }\n",
       "</style>\n",
       "<table border=\"1\" class=\"dataframe\">\n",
       "  <thead>\n",
       "    <tr style=\"text-align: right;\">\n",
       "      <th></th>\n",
       "      <th>bhk</th>\n",
       "      <th>area</th>\n",
       "      <th>region_Agripada</th>\n",
       "      <th>region_Airoli</th>\n",
       "      <th>region_Ambarnath</th>\n",
       "      <th>region_Ambernath East</th>\n",
       "      <th>region_Ambernath West</th>\n",
       "      <th>region_Ambivali</th>\n",
       "      <th>region_Andheri East</th>\n",
       "      <th>region_Andheri West</th>\n",
       "      <th>...</th>\n",
       "      <th>region_Vikhroli</th>\n",
       "      <th>region_Vikroli East</th>\n",
       "      <th>region_Ville Parle East</th>\n",
       "      <th>region_Ville Parle West</th>\n",
       "      <th>region_Virar</th>\n",
       "      <th>region_Virar East</th>\n",
       "      <th>region_Virar West</th>\n",
       "      <th>region_Wadala</th>\n",
       "      <th>region_Worli</th>\n",
       "      <th>region_kasaradavali thane west</th>\n",
       "    </tr>\n",
       "  </thead>\n",
       "  <tbody>\n",
       "    <tr>\n",
       "      <th>2</th>\n",
       "      <td>1</td>\n",
       "      <td>803</td>\n",
       "      <td>1</td>\n",
       "      <td>0</td>\n",
       "      <td>0</td>\n",
       "      <td>0</td>\n",
       "      <td>0</td>\n",
       "      <td>0</td>\n",
       "      <td>0</td>\n",
       "      <td>0</td>\n",
       "      <td>...</td>\n",
       "      <td>0</td>\n",
       "      <td>0</td>\n",
       "      <td>0</td>\n",
       "      <td>0</td>\n",
       "      <td>0</td>\n",
       "      <td>0</td>\n",
       "      <td>0</td>\n",
       "      <td>0</td>\n",
       "      <td>0</td>\n",
       "      <td>0</td>\n",
       "    </tr>\n",
       "    <tr>\n",
       "      <th>4</th>\n",
       "      <td>1</td>\n",
       "      <td>684</td>\n",
       "      <td>1</td>\n",
       "      <td>0</td>\n",
       "      <td>0</td>\n",
       "      <td>0</td>\n",
       "      <td>0</td>\n",
       "      <td>0</td>\n",
       "      <td>0</td>\n",
       "      <td>0</td>\n",
       "      <td>...</td>\n",
       "      <td>0</td>\n",
       "      <td>0</td>\n",
       "      <td>0</td>\n",
       "      <td>0</td>\n",
       "      <td>0</td>\n",
       "      <td>0</td>\n",
       "      <td>0</td>\n",
       "      <td>0</td>\n",
       "      <td>0</td>\n",
       "      <td>0</td>\n",
       "    </tr>\n",
       "    <tr>\n",
       "      <th>5</th>\n",
       "      <td>1</td>\n",
       "      <td>545</td>\n",
       "      <td>1</td>\n",
       "      <td>0</td>\n",
       "      <td>0</td>\n",
       "      <td>0</td>\n",
       "      <td>0</td>\n",
       "      <td>0</td>\n",
       "      <td>0</td>\n",
       "      <td>0</td>\n",
       "      <td>...</td>\n",
       "      <td>0</td>\n",
       "      <td>0</td>\n",
       "      <td>0</td>\n",
       "      <td>0</td>\n",
       "      <td>0</td>\n",
       "      <td>0</td>\n",
       "      <td>0</td>\n",
       "      <td>0</td>\n",
       "      <td>0</td>\n",
       "      <td>0</td>\n",
       "    </tr>\n",
       "    <tr>\n",
       "      <th>25</th>\n",
       "      <td>4</td>\n",
       "      <td>3100</td>\n",
       "      <td>1</td>\n",
       "      <td>0</td>\n",
       "      <td>0</td>\n",
       "      <td>0</td>\n",
       "      <td>0</td>\n",
       "      <td>0</td>\n",
       "      <td>0</td>\n",
       "      <td>0</td>\n",
       "      <td>...</td>\n",
       "      <td>0</td>\n",
       "      <td>0</td>\n",
       "      <td>0</td>\n",
       "      <td>0</td>\n",
       "      <td>0</td>\n",
       "      <td>0</td>\n",
       "      <td>0</td>\n",
       "      <td>0</td>\n",
       "      <td>0</td>\n",
       "      <td>0</td>\n",
       "    </tr>\n",
       "    <tr>\n",
       "      <th>29</th>\n",
       "      <td>1</td>\n",
       "      <td>800</td>\n",
       "      <td>1</td>\n",
       "      <td>0</td>\n",
       "      <td>0</td>\n",
       "      <td>0</td>\n",
       "      <td>0</td>\n",
       "      <td>0</td>\n",
       "      <td>0</td>\n",
       "      <td>0</td>\n",
       "      <td>...</td>\n",
       "      <td>0</td>\n",
       "      <td>0</td>\n",
       "      <td>0</td>\n",
       "      <td>0</td>\n",
       "      <td>0</td>\n",
       "      <td>0</td>\n",
       "      <td>0</td>\n",
       "      <td>0</td>\n",
       "      <td>0</td>\n",
       "      <td>0</td>\n",
       "    </tr>\n",
       "    <tr>\n",
       "      <th>48</th>\n",
       "      <td>1</td>\n",
       "      <td>1015</td>\n",
       "      <td>1</td>\n",
       "      <td>0</td>\n",
       "      <td>0</td>\n",
       "      <td>0</td>\n",
       "      <td>0</td>\n",
       "      <td>0</td>\n",
       "      <td>0</td>\n",
       "      <td>0</td>\n",
       "      <td>...</td>\n",
       "      <td>0</td>\n",
       "      <td>0</td>\n",
       "      <td>0</td>\n",
       "      <td>0</td>\n",
       "      <td>0</td>\n",
       "      <td>0</td>\n",
       "      <td>0</td>\n",
       "      <td>0</td>\n",
       "      <td>0</td>\n",
       "      <td>0</td>\n",
       "    </tr>\n",
       "    <tr>\n",
       "      <th>53</th>\n",
       "      <td>1</td>\n",
       "      <td>900</td>\n",
       "      <td>1</td>\n",
       "      <td>0</td>\n",
       "      <td>0</td>\n",
       "      <td>0</td>\n",
       "      <td>0</td>\n",
       "      <td>0</td>\n",
       "      <td>0</td>\n",
       "      <td>0</td>\n",
       "      <td>...</td>\n",
       "      <td>0</td>\n",
       "      <td>0</td>\n",
       "      <td>0</td>\n",
       "      <td>0</td>\n",
       "      <td>0</td>\n",
       "      <td>0</td>\n",
       "      <td>0</td>\n",
       "      <td>0</td>\n",
       "      <td>0</td>\n",
       "      <td>0</td>\n",
       "    </tr>\n",
       "    <tr>\n",
       "      <th>57</th>\n",
       "      <td>1</td>\n",
       "      <td>515</td>\n",
       "      <td>0</td>\n",
       "      <td>1</td>\n",
       "      <td>0</td>\n",
       "      <td>0</td>\n",
       "      <td>0</td>\n",
       "      <td>0</td>\n",
       "      <td>0</td>\n",
       "      <td>0</td>\n",
       "      <td>...</td>\n",
       "      <td>0</td>\n",
       "      <td>0</td>\n",
       "      <td>0</td>\n",
       "      <td>0</td>\n",
       "      <td>0</td>\n",
       "      <td>0</td>\n",
       "      <td>0</td>\n",
       "      <td>0</td>\n",
       "      <td>0</td>\n",
       "      <td>0</td>\n",
       "    </tr>\n",
       "    <tr>\n",
       "      <th>58</th>\n",
       "      <td>1</td>\n",
       "      <td>660</td>\n",
       "      <td>0</td>\n",
       "      <td>1</td>\n",
       "      <td>0</td>\n",
       "      <td>0</td>\n",
       "      <td>0</td>\n",
       "      <td>0</td>\n",
       "      <td>0</td>\n",
       "      <td>0</td>\n",
       "      <td>...</td>\n",
       "      <td>0</td>\n",
       "      <td>0</td>\n",
       "      <td>0</td>\n",
       "      <td>0</td>\n",
       "      <td>0</td>\n",
       "      <td>0</td>\n",
       "      <td>0</td>\n",
       "      <td>0</td>\n",
       "      <td>0</td>\n",
       "      <td>0</td>\n",
       "    </tr>\n",
       "    <tr>\n",
       "      <th>61</th>\n",
       "      <td>3</td>\n",
       "      <td>1350</td>\n",
       "      <td>0</td>\n",
       "      <td>1</td>\n",
       "      <td>0</td>\n",
       "      <td>0</td>\n",
       "      <td>0</td>\n",
       "      <td>0</td>\n",
       "      <td>0</td>\n",
       "      <td>0</td>\n",
       "      <td>...</td>\n",
       "      <td>0</td>\n",
       "      <td>0</td>\n",
       "      <td>0</td>\n",
       "      <td>0</td>\n",
       "      <td>0</td>\n",
       "      <td>0</td>\n",
       "      <td>0</td>\n",
       "      <td>0</td>\n",
       "      <td>0</td>\n",
       "      <td>0</td>\n",
       "    </tr>\n",
       "  </tbody>\n",
       "</table>\n",
       "<p>10 rows × 147 columns</p>\n",
       "</div>"
      ],
      "text/plain": [
       "    bhk  area  region_Agripada  region_Airoli  region_Ambarnath  \\\n",
       "2     1   803                1              0                 0   \n",
       "4     1   684                1              0                 0   \n",
       "5     1   545                1              0                 0   \n",
       "25    4  3100                1              0                 0   \n",
       "29    1   800                1              0                 0   \n",
       "48    1  1015                1              0                 0   \n",
       "53    1   900                1              0                 0   \n",
       "57    1   515                0              1                 0   \n",
       "58    1   660                0              1                 0   \n",
       "61    3  1350                0              1                 0   \n",
       "\n",
       "    region_Ambernath East  region_Ambernath West  region_Ambivali  \\\n",
       "2                       0                      0                0   \n",
       "4                       0                      0                0   \n",
       "5                       0                      0                0   \n",
       "25                      0                      0                0   \n",
       "29                      0                      0                0   \n",
       "48                      0                      0                0   \n",
       "53                      0                      0                0   \n",
       "57                      0                      0                0   \n",
       "58                      0                      0                0   \n",
       "61                      0                      0                0   \n",
       "\n",
       "    region_Andheri East  region_Andheri West  ...  region_Vikhroli  \\\n",
       "2                     0                    0  ...                0   \n",
       "4                     0                    0  ...                0   \n",
       "5                     0                    0  ...                0   \n",
       "25                    0                    0  ...                0   \n",
       "29                    0                    0  ...                0   \n",
       "48                    0                    0  ...                0   \n",
       "53                    0                    0  ...                0   \n",
       "57                    0                    0  ...                0   \n",
       "58                    0                    0  ...                0   \n",
       "61                    0                    0  ...                0   \n",
       "\n",
       "    region_Vikroli East  region_Ville Parle East  region_Ville Parle West  \\\n",
       "2                     0                        0                        0   \n",
       "4                     0                        0                        0   \n",
       "5                     0                        0                        0   \n",
       "25                    0                        0                        0   \n",
       "29                    0                        0                        0   \n",
       "48                    0                        0                        0   \n",
       "53                    0                        0                        0   \n",
       "57                    0                        0                        0   \n",
       "58                    0                        0                        0   \n",
       "61                    0                        0                        0   \n",
       "\n",
       "    region_Virar  region_Virar East  region_Virar West  region_Wadala  \\\n",
       "2              0                  0                  0              0   \n",
       "4              0                  0                  0              0   \n",
       "5              0                  0                  0              0   \n",
       "25             0                  0                  0              0   \n",
       "29             0                  0                  0              0   \n",
       "48             0                  0                  0              0   \n",
       "53             0                  0                  0              0   \n",
       "57             0                  0                  0              0   \n",
       "58             0                  0                  0              0   \n",
       "61             0                  0                  0              0   \n",
       "\n",
       "    region_Worli  region_kasaradavali thane west  \n",
       "2              0                               0  \n",
       "4              0                               0  \n",
       "5              0                               0  \n",
       "25             0                               0  \n",
       "29             0                               0  \n",
       "48             0                               0  \n",
       "53             0                               0  \n",
       "57             0                               0  \n",
       "58             0                               0  \n",
       "61             0                               0  \n",
       "\n",
       "[10 rows x 147 columns]"
      ]
     },
     "execution_count": 427,
     "metadata": {},
     "output_type": "execute_result"
    }
   ],
   "source": [
    "# X contains all independent variables other than price\n",
    "X = dataset_encoded.drop(columns=['price'], axis=1)\n",
    "X.head(10)"
   ]
  },
  {
   "cell_type": "code",
   "execution_count": 428,
   "metadata": {},
   "outputs": [
    {
     "data": {
      "text/plain": [
       "2      2.25\n",
       "4      1.70\n",
       "5      1.60\n",
       "25    20.00\n",
       "29     2.60\n",
       "Name: price, dtype: float64"
      ]
     },
     "execution_count": 428,
     "metadata": {},
     "output_type": "execute_result"
    }
   ],
   "source": [
    "# y contains a dependent variable price\n",
    "y = dataset_encoded.price\n",
    "y.head()"
   ]
  },
  {
   "cell_type": "markdown",
   "metadata": {},
   "source": [
    "Model Building"
   ]
  },
  {
   "cell_type": "code",
   "execution_count": 429,
   "metadata": {},
   "outputs": [],
   "source": [
    "# splitting the dataset into training and testing\n",
    "from sklearn.model_selection import train_test_split\n",
    "X_train, X_test, y_train, y_test = train_test_split(X, y, test_size=0.2, random_state=42)"
   ]
  },
  {
   "cell_type": "code",
   "execution_count": 430,
   "metadata": {},
   "outputs": [
    {
     "name": "stdout",
     "output_type": "stream",
     "text": [
      "Mean Absolute Error of Linear Regression: 8.608554017337527\n",
      "Mean Absolute Error of Ridge: 8.627769742681227\n",
      "Mean Absolute Error of Decision Tree Regressor: 5.704580206882984\n",
      "Accuracy of Random Forest Regressor: 0.8805130431250845\n",
      "Mean Absolute Error of Random Forest Regressor: 5.555588719708198\n",
      "Mean Absolute Error of XGB Regressor: 5.993349489529649\n"
     ]
    }
   ],
   "source": [
    "# Comparing different model's performance using metrics\n",
    "# Linear Regression\n",
    "from sklearn.linear_model import LinearRegression\n",
    "from sklearn.metrics import mean_absolute_error\n",
    "lrmodel = LinearRegression()\n",
    "lrmodel.fit(X_train, y_train) # training the model\n",
    "lr_y_pred = lrmodel.predict(X_test)\n",
    "print(\"Mean Absolute Error of Linear Regression:\", mean_absolute_error(y_test, lr_y_pred))\n",
    "\n",
    "\n",
    "# Ridge\n",
    "from sklearn.linear_model import Ridge\n",
    "ridgemodel = Ridge()\n",
    "ridgemodel.fit(X_train, y_train) # training the model\n",
    "ridge_y_pred = ridgemodel.predict(X_test)\n",
    "print(\"Mean Absolute Error of Ridge:\", mean_absolute_error(y_test, ridge_y_pred))\n",
    "\n",
    "\n",
    "# Decision Tree Regressor\n",
    "from sklearn.tree import DecisionTreeRegressor\n",
    "dtmodel = DecisionTreeRegressor(random_state=42)\n",
    "dtmodel.fit(X_train, y_train)\n",
    "dt_y_pred = dtmodel.predict(X_test)\n",
    "print(\"Mean Absolute Error of Decision Tree Regressor:\", mean_absolute_error(y_test, dt_y_pred))\n",
    "\n",
    "\n",
    "# Random Forest Regressor\n",
    "from sklearn.ensemble import RandomForestRegressor\n",
    "rfmodel = RandomForestRegressor(random_state=42)\n",
    "rfmodel.fit(X_train, y_train)\n",
    "rf_accuracy = rfmodel.score(X_test, y_test)\n",
    "rf_y_pred = rfmodel.predict(X_test)\n",
    "print(\"Accuracy of Random Forest Regressor:\", rf_accuracy)\n",
    "print(\"Mean Absolute Error of Random Forest Regressor:\", mean_absolute_error(y_test, rf_y_pred))\n",
    "\n",
    "# XGBRegressor\n",
    "from xgboost import XGBRegressor\n",
    "xgbmodel = XGBRegressor(random_state=42)\n",
    "xgbmodel.fit(X_train, y_train)\n",
    "xgb_y_pred = xgbmodel.predict(X_test)\n",
    "print(\"Mean Absolute Error of XGB Regressor:\", mean_absolute_error(y_test, xgb_y_pred))"
   ]
  },
  {
   "cell_type": "code",
   "execution_count": 431,
   "metadata": {},
   "outputs": [
    {
     "data": {
      "text/plain": [
       "array([0.89389305, 0.89325933, 0.87513   , 0.89505845, 0.88778222])"
      ]
     },
     "execution_count": 431,
     "metadata": {},
     "output_type": "execute_result"
    }
   ],
   "source": [
    "# K-Fold cross-validation\n",
    "from sklearn.model_selection import ShuffleSplit, cross_val_score\n",
    "cv = ShuffleSplit(n_splits=5, test_size=0.2, random_state=0)\n",
    "cross_val_score(rfmodel, X, y, cv=cv)"
   ]
  },
  {
   "cell_type": "code",
   "execution_count": 432,
   "metadata": {},
   "outputs": [],
   "source": [
    "def predict_price(region, bhk, area):\n",
    "    loc_index = np.where(X.columns==f\"region_{region}\")[0][0]\n",
    "    x = np.zeros(len(X.columns))\n",
    "    x[0] = bhk\n",
    "    x[1] = area\n",
    "    if loc_index >= 0:\n",
    "        x[loc_index] = 1\n",
    "    return rfmodel.predict([x])[0]"
   ]
  },
  {
   "cell_type": "markdown",
   "metadata": {},
   "source": [
    "Model Testing"
   ]
  },
  {
   "cell_type": "code",
   "execution_count": 433,
   "metadata": {},
   "outputs": [
    {
     "name": "stderr",
     "output_type": "stream",
     "text": [
      "c:\\Users\\DELL\\AppData\\Local\\Programs\\Python\\Python311\\Lib\\site-packages\\sklearn\\utils\\validation.py:2739: UserWarning: X does not have valid feature names, but RandomForestRegressor was fitted with feature names\n",
      "  warnings.warn(\n"
     ]
    },
    {
     "data": {
      "text/plain": [
       "12.093799999999998"
      ]
     },
     "execution_count": 433,
     "metadata": {},
     "output_type": "execute_result"
    }
   ],
   "source": [
    "predict_price('Agripada', 1, 1000)"
   ]
  },
  {
   "cell_type": "code",
   "execution_count": 434,
   "metadata": {},
   "outputs": [
    {
     "name": "stderr",
     "output_type": "stream",
     "text": [
      "c:\\Users\\DELL\\AppData\\Local\\Programs\\Python\\Python311\\Lib\\site-packages\\sklearn\\utils\\validation.py:2739: UserWarning: X does not have valid feature names, but RandomForestRegressor was fitted with feature names\n",
      "  warnings.warn(\n"
     ]
    },
    {
     "data": {
      "text/plain": [
       "2.1217383333333326"
      ]
     },
     "execution_count": 434,
     "metadata": {},
     "output_type": "execute_result"
    }
   ],
   "source": [
    "predict_price('Agripada', 1, 500)"
   ]
  },
  {
   "cell_type": "code",
   "execution_count": 435,
   "metadata": {},
   "outputs": [
    {
     "name": "stderr",
     "output_type": "stream",
     "text": [
      "c:\\Users\\DELL\\AppData\\Local\\Programs\\Python\\Python311\\Lib\\site-packages\\sklearn\\utils\\validation.py:2739: UserWarning: X does not have valid feature names, but RandomForestRegressor was fitted with feature names\n",
      "  warnings.warn(\n"
     ]
    },
    {
     "data": {
      "text/plain": [
       "59.357733333333336"
      ]
     },
     "execution_count": 435,
     "metadata": {},
     "output_type": "execute_result"
    }
   ],
   "source": [
    "predict_price('Panvel', 1, 1000)"
   ]
  },
  {
   "cell_type": "code",
   "execution_count": 436,
   "metadata": {},
   "outputs": [
    {
     "name": "stderr",
     "output_type": "stream",
     "text": [
      "c:\\Users\\DELL\\AppData\\Local\\Programs\\Python\\Python311\\Lib\\site-packages\\sklearn\\utils\\validation.py:2739: UserWarning: X does not have valid feature names, but RandomForestRegressor was fitted with feature names\n",
      "  warnings.warn(\n"
     ]
    },
    {
     "data": {
      "text/plain": [
       "81.85622857142859"
      ]
     },
     "execution_count": 436,
     "metadata": {},
     "output_type": "execute_result"
    }
   ],
   "source": [
    "predict_price('Panvel', 2, 1000)"
   ]
  }
 ],
 "metadata": {
  "kernelspec": {
   "display_name": "Python 3",
   "language": "python",
   "name": "python3"
  },
  "language_info": {
   "codemirror_mode": {
    "name": "ipython",
    "version": 3
   },
   "file_extension": ".py",
   "mimetype": "text/x-python",
   "name": "python",
   "nbconvert_exporter": "python",
   "pygments_lexer": "ipython3",
   "version": "3.11.5"
  }
 },
 "nbformat": 4,
 "nbformat_minor": 2
}
